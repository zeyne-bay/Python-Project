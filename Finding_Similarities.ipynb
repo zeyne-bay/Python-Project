{
 "cells": [
  {
   "cell_type": "code",
   "execution_count": 1,
   "metadata": {},
   "outputs": [
    {
     "name": "stdout",
     "output_type": "stream",
     "text": [
      "Please enter wich one would you like to compare? (Users/Movies):users\n",
      "Please enter first user ID :123\n",
      "Please enter second user ID :56\n",
      "Please enter what similarity metric to use\n",
      "(Euclidean/Manhattan/Cosine/Jaccard/Pearson) :pearson\n",
      "Similarity score is :  0.07731921410338582\n",
      "Would you like to compare again? (Yes/No):no\n",
      "Thank you\n"
     ]
    }
   ],
   "source": [
    "from similarity import*\n",
    "from math import*\n",
    "#deciding to continue or not\n",
    "def conti():\n",
    "    cont = input(\"Would you like to compare again? (Yes/No):\")\n",
    "    cont = cont.lower()\n",
    "    if cont == \"yes\":\n",
    "        main()\n",
    "    elif cont == \"no\":\n",
    "        print(\"Thank you\")\n",
    "    else:\n",
    "        print(\"Incorrect Data!\")\n",
    "        conti()\n",
    "#user interface\n",
    "def main():\n",
    "    #chosing users or movies to compare\n",
    "    user_or_movie=input(\"Please enter wich one would you like to compare? (Users/Movies):\")\n",
    "    user_or_movie = user_or_movie.lower()\n",
    "    #entering users ids and metric name\n",
    "    if user_or_movie == \"users\":\n",
    "        user1= input(\"Please enter first user ID :\")\n",
    "        user2= input(\"Please enter second user ID :\")\n",
    "        metric_type= input(\"Please enter what similarity metric to use\"+'\\n'+\"(Euclidean/Manhattan/Cosine/Jaccard/Pearson) :\")\n",
    "        #finding similiraty score\n",
    "        try:\n",
    "            print(\"Similarity score is : \",user_similarity(metric_type,user1,user2))\n",
    "            conti()\n",
    "        except:\n",
    "            print(\"Incorrect Data!\")\n",
    "            main()\n",
    "    #entering movies names and metric name\n",
    "    elif user_or_movie == \"movies\":\n",
    "        movie1 = input(\"Please enter first movie name :\")\n",
    "        movie2 = input(\"Please enter second movie name :\")\n",
    "        metric_type = input(\"Please enter what similarity metric to use\"+'\\n'+\"(Euclidean/Mahattan/Cosine/Jaccard/Pearson) :\")\n",
    "        try:\n",
    "            print(\"Similarity score is :\",movie_similarity(metric_type,movie1,movie2))\n",
    "            #calling deciding to continue or not\n",
    "            conti()\n",
    "        except:\n",
    "            print(\"Incorrect Data!\")\n",
    "            main()\n",
    "    else:\n",
    "        print(\"Incorrect Data!\")\n",
    "        main()\n",
    "    \n",
    "#calling user interface\n",
    "main()\n",
    "            "
   ]
  },
  {
   "cell_type": "code",
   "execution_count": null,
   "metadata": {},
   "outputs": [],
   "source": []
  },
  {
   "cell_type": "code",
   "execution_count": null,
   "metadata": {},
   "outputs": [],
   "source": [
    "\n"
   ]
  },
  {
   "cell_type": "code",
   "execution_count": null,
   "metadata": {},
   "outputs": [],
   "source": []
  },
  {
   "cell_type": "code",
   "execution_count": null,
   "metadata": {},
   "outputs": [],
   "source": []
  }
 ],
 "metadata": {
  "kernelspec": {
   "display_name": "Python 3",
   "language": "python",
   "name": "python3"
  },
  "language_info": {
   "codemirror_mode": {
    "name": "ipython",
    "version": 3
   },
   "file_extension": ".py",
   "mimetype": "text/x-python",
   "name": "python",
   "nbconvert_exporter": "python",
   "pygments_lexer": "ipython3",
   "version": "3.7.4"
  }
 },
 "nbformat": 4,
 "nbformat_minor": 4
}
